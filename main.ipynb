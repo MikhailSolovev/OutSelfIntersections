{
  "nbformat": 4,
  "nbformat_minor": 0,
  "metadata": {
    "colab": {
      "name": "main.ipynb",
      "provenance": [],
      "collapsed_sections": []
    },
    "kernelspec": {
      "name": "python3",
      "display_name": "Python 3"
    },
    "language_info": {
      "name": "python"
    }
  },
  "cells": [
    {
      "cell_type": "code",
      "metadata": {
        "id": "qsx6aIJqr2Mv"
      },
      "source": [
        "import random as r\n",
        "import matplotlib.pyplot as plt\n",
        "import numpy as np\n",
        "import time"
      ],
      "execution_count": 13,
      "outputs": []
    },
    {
      "cell_type": "code",
      "metadata": {
        "id": "Xd199NvxsLuS"
      },
      "source": [
        "# Constants\n",
        "S = 5\n",
        "N = np.arange(20, 120, 5)\n",
        "P = 3"
      ],
      "execution_count": 14,
      "outputs": []
    },
    {
      "cell_type": "code",
      "metadata": {
        "id": "62qM1o7LsN0v"
      },
      "source": [
        "def basis(field):  # generate one chain without intersections length of S\n",
        "    new_field = np.array(field)\n",
        "    x, y, z = field[-1]\n",
        "    dxp, dyp, dzp = 0, 0, 0\n",
        "    for _ in range(S):\n",
        "        dx, dy, dz = r.choice([(1, 0, 0), (-1, 0, 0), (0, 1, 0), (0, -1, 0), (0, 0, 1), (0, 0, -1)])\n",
        "        while (dx, dy, dz) == (-dxp, -dyp, -dzp):\n",
        "            dx, dy, dz = r.choice([(1, 0, 0), (-1, 0, 0), (0, 1, 0), (0, -1, 0), (0, 0, 1), (0, 0, -1)])\n",
        "        x, y, z = x + dx, y + dy, z + dz\n",
        "        if any(np.equal(new_field, [x, y, z]).all(1)):\n",
        "            return None\n",
        "        else:\n",
        "            new_field = np.concatenate((new_field, np.array([(x, y, z)])), axis=0)\n",
        "        dxp, dyp, dzp = dx, dy, dz\n",
        "    return new_field"
      ],
      "execution_count": 15,
      "outputs": []
    },
    {
      "cell_type": "code",
      "metadata": {
        "id": "Gx4lhKSpsR-K"
      },
      "source": [
        "def step(field):  # generate other chains, total amount P\n",
        "    chains = []\n",
        "    for _ in range(P):\n",
        "        sample = basis(field)\n",
        "        if sample is not None:\n",
        "            chains.append(sample)\n",
        "    return np.array(chains)"
      ],
      "execution_count": 16,
      "outputs": []
    },
    {
      "cell_type": "code",
      "metadata": {
        "id": "iiHJynxFsUZv"
      },
      "source": [
        "def main():\n",
        "    r2 = []\n",
        "    chains = step([(0, 0, 0)])\n",
        "    for i in range(N[-1] // S - 1):\n",
        "        start = time.time()\n",
        "        new_chains = []\n",
        "        for chain in chains:\n",
        "            for c in step(chain):\n",
        "                new_chains.append(c)\n",
        "            chains = np.array(new_chains)\n",
        "        print(\"[DONE]\", i, \"[TIME]\", round(time.time() - start, 4), 'sec')\n",
        "        # average squared radius\n",
        "        if i >= 2:\n",
        "            sum_ = 0\n",
        "            for chain in chains:\n",
        "                sum_ += chain[-1, 0] ** 2 + chain[-1, 1] ** 2 + chain[-1, 2] ** 2\n",
        "            r2.append(sum_ / len(chains))\n",
        "    return np.array(r2)"
      ],
      "execution_count": 17,
      "outputs": []
    },
    {
      "cell_type": "code",
      "metadata": {
        "colab": {
          "base_uri": "https://localhost:8080/"
        },
        "id": "Kz38d9vosW0X",
        "outputId": "3df175b5-568b-4c16-d93b-f70b5abc9483"
      },
      "source": [
        "r2 = main()\n",
        "\n",
        "# Graphs\n",
        "\n",
        "plt.plot(N, r2, 'o')\n",
        "plt.xlabel('N')\n",
        "plt.ylabel('<r^2>')\n",
        "plt.title(f'S: {S} N: [{N[0]}, {N[-1]}] P: {P}')\n",
        "plt.show()\n",
        "\n",
        "# Double logarithm\n",
        "N_log = np.log(N)\n",
        "r2_log = np.log(r2)\n",
        "# MNK\n",
        "k, b = np.polyfit(N_log, r2_log, 1)\n",
        "correlation_matrix = np.corrcoef(N_log, r2_log)\n",
        "correlation_xy = correlation_matrix[0, 1]\n",
        "r_squared = correlation_xy**2\n",
        "\n",
        "\n",
        "print('k:', k, 'b:', b)\n",
        "print('r^2:', r_squared)\n",
        "\n",
        "line = lambda x: k*x + b\n",
        "\n",
        "plt.plot(N_log, r2_log, 'o')\n",
        "plt.plot(N_log, line(N_log), 'purple')\n",
        "plt.xlabel('ln(N)')\n",
        "plt.ylabel('ln(<r^2>)')\n",
        "plt.title(f'S: {S} N: [{N[0]}, {N[-1]}] P: {P}')\n",
        "plt.show()"
      ],
      "execution_count": null,
      "outputs": [
        {
          "output_type": "stream",
          "text": [
            "[DONE] 0 [TIME] 0.0009 sec\n",
            "[DONE] 1 [TIME] 0.0016 sec\n",
            "[DONE] 2 [TIME] 0.0024 sec\n",
            "[DONE] 3 [TIME] 0.005 sec\n",
            "[DONE] 4 [TIME] 0.0086 sec\n",
            "[DONE] 5 [TIME] 0.0182 sec\n",
            "[DONE] 6 [TIME] 0.0384 sec\n",
            "[DONE] 7 [TIME] 0.0767 sec\n",
            "[DONE] 8 [TIME] 0.2131 sec\n",
            "[DONE] 9 [TIME] 0.5752 sec\n",
            "[DONE] 10 [TIME] 1.8515 sec\n",
            "[DONE] 11 [TIME] 6.4382 sec\n",
            "[DONE] 12 [TIME] 22.3958 sec\n",
            "[DONE] 13 [TIME] 77.4368 sec\n",
            "[DONE] 14 [TIME] 264.1273 sec\n",
            "[DONE] 15 [TIME] 850.4824 sec\n"
          ],
          "name": "stdout"
        }
      ]
    },
    {
      "cell_type": "code",
      "metadata": {
        "id": "fqm_EaCksZFF"
      },
      "source": [
        ""
      ],
      "execution_count": null,
      "outputs": []
    }
  ]
}